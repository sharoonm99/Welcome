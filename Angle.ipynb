{
  "nbformat": 4,
  "nbformat_minor": 0,
  "metadata": {
    "colab": {
      "name": "Untitled0.ipynb",
      "provenance": [],
      "authorship_tag": "ABX9TyORV91OHCBlOKvBrd+5GR6I",
      "include_colab_link": true
    },
    "kernelspec": {
      "name": "python3",
      "display_name": "Python 3"
    },
    "language_info": {
      "name": "python"
    }
  },
  "cells": [
    {
      "cell_type": "markdown",
      "metadata": {
        "id": "view-in-github",
        "colab_type": "text"
      },
      "source": [
        "<a href=\"https://colab.research.google.com/github/sharoonm99/Welcome/blob/main/Angle.ipynb\" target=\"_parent\"><img src=\"https://colab.research.google.com/assets/colab-badge.svg\" alt=\"Open In Colab\"/></a>"
      ]
    },
    {
      "cell_type": "code",
      "metadata": {
        "colab": {
          "base_uri": "https://localhost:8080/"
        },
        "id": "BTn-W_BJTLV4",
        "outputId": "50146977-984c-4509-8049-398d27717fb5"
      },
      "source": [
        "degree = int ( input (\"Enter the Angle in degree\"))\n",
        "radian = (degree * 3.14) / 180\n",
        "print (radian)\n"
      ],
      "execution_count": 5,
      "outputs": [
        {
          "output_type": "stream",
          "text": [
            "Enter the Angle in degree100\n",
            "1.7444444444444445\n"
          ],
          "name": "stdout"
        }
      ]
    }
  ]
}