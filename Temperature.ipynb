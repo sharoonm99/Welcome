{
  "nbformat": 4,
  "nbformat_minor": 0,
  "metadata": {
    "colab": {
      "name": "Untitled0.ipynb",
      "provenance": [],
      "authorship_tag": "ABX9TyOVBPytE4+SvFBqu5tgfVkZ",
      "include_colab_link": true
    },
    "kernelspec": {
      "name": "python3",
      "display_name": "Python 3"
    },
    "language_info": {
      "name": "python"
    }
  },
  "cells": [
    {
      "cell_type": "markdown",
      "metadata": {
        "id": "view-in-github",
        "colab_type": "text"
      },
      "source": [
        "<a href=\"https://colab.research.google.com/github/sharoonm99/Welcome/blob/main/Temperature.ipynb\" target=\"_parent\"><img src=\"https://colab.research.google.com/assets/colab-badge.svg\" alt=\"Open In Colab\"/></a>"
      ]
    },
    {
      "cell_type": "code",
      "metadata": {
        "colab": {
          "base_uri": "https://localhost:8080/"
        },
        "id": "BTn-W_BJTLV4",
        "outputId": "770955ae-ce96-4c63-a8bc-8066749fb1f5"
      },
      "source": [
        "celsius = int ( input (\"enter Temperature in celsius\"))\n",
        "Fahrenheit = ((celsius * 9)/5) + 32\n",
        "print (Fahrenheit)\n"
      ],
      "execution_count": 3,
      "outputs": [
        {
          "output_type": "stream",
          "text": [
            "enter Temperature in celsius100\n",
            "212.0\n"
          ],
          "name": "stdout"
        }
      ]
    }
  ]
}